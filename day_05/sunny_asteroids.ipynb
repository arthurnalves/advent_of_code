{
 "cells": [
  {
   "cell_type": "markdown",
   "metadata": {},
   "source": [
    "### Day 2 Copy-Paste"
   ]
  },
  {
   "cell_type": "code",
   "execution_count": 8,
   "metadata": {},
   "outputs": [],
   "source": [
    "input_file = open('input')\n",
    "intcode = [int(char) for char in input_file.read().split(',')]\n",
    "input_file.close()\n",
    "\n",
    "\n",
    "def add(a = 0, b = 0, pos = 0):\n",
    "    ans = a + b\n",
    "    intcode[pos] = ans\n",
    "    #print('Placing', ans, 'at', pos)\n",
    "\n",
    "def mult(a = 0, b = 0, pos = 0):\n",
    "    ans = a * b\n",
    "    intcode[pos] = ans\n",
    "    #print('Placing', ans, 'at', pos)\n",
    "\n",
    "def take_input(a = 0, b = 0, pos = 0, interactive = True):\n",
    "    if interactive:\n",
    "        user_input = input()\n",
    "    intcode[pos] = int(user_input)\n",
    "    \n",
    "def give_output(a = 0, b = 0, pos = 0, interactive = True):\n",
    "    if interactive:\n",
    "        print(intcode[pos])\n",
    "    return intcode[pos]\n",
    "\n",
    "def halt(a = 0, b = 0, pos = 0):\n",
    "    print('Intcode Computer Halting: ', intcode[0])\n",
    "    return 'ERROR'\n",
    "    \n",
    "op = dict()\n",
    "op['1'] = add\n",
    "op['2'] = mult\n",
    "op['3'] = take_input\n",
    "op['4'] = give_output\n",
    "op['99'] = halt\n",
    "\n",
    "def code_parser(bigcode):\n",
    "    bigcode = str(bigcode)\n",
    "    bigcode = '0'*(4-len(bigcode)) + bigcode\n",
    "    opcode = int(bigcode[2:])\n",
    "    mode1 = int(bigcode[1])\n",
    "    mode2 = int(bigcode[0])\n",
    "    return opcode, mode1, mode2\n",
    "    \n",
    "def execute(pos, verbose = False):\n",
    "    \n",
    "    int1, int2, pos3 = [0,0,0]\n",
    "    \n",
    "    bigcode = intcode[pos]\n",
    "    opcode, mode1, mode2 = code_parser(bigcode)\n",
    "   \n",
    "    if opcode in [1,2]:\n",
    "        jump = 4\n",
    "        pos1, pos2, pos3 = intcode[pos+1:pos+4]\n",
    "        \n",
    "        if mode1:\n",
    "            int1 = pos1\n",
    "        else:\n",
    "            int1 = intcode[pos1]\n",
    "        \n",
    "        if mode2:\n",
    "            int2 = pos2\n",
    "        else:\n",
    "            int2 = intcode[pos2]\n",
    "        \n",
    "    elif opcode in [3,4]:\n",
    "        jump = 2\n",
    "        pos3 = intcode[pos+1]\n",
    "        if mode1:\n",
    "            int1 = pos3\n",
    "        else:\n",
    "            int1 = intcode[pos3]\n",
    "    \n",
    "    op[str(opcode)](int1, int2, pos3)\n",
    "        \n",
    "    if opcode in [99]:\n",
    "        jump = 'ERROR'\n",
    "   \n",
    "    return jump\n",
    "\n",
    "        \n",
    "def get_halt_answer(verbose = False):\n",
    "    i = 0\n",
    "    while i < len(intcode):\n",
    "        jump = execute(i, verbose = verbose)\n",
    "        if jump == 'ERROR':\n",
    "            break\n",
    "        else:\n",
    "            i += jump\n",
    "    return intcode[0]"
   ]
  },
  {
   "cell_type": "code",
   "execution_count": 9,
   "metadata": {},
   "outputs": [
    {
     "name": "stdout",
     "output_type": "stream",
     "text": [
      "1\n",
      "3\n",
      "0\n",
      "0\n",
      "0\n",
      "0\n",
      "0\n",
      "0\n",
      "0\n",
      "0\n",
      "8332629\n",
      "Intcode Computer Halting:  3\n"
     ]
    },
    {
     "data": {
      "text/plain": [
       "3"
      ]
     },
     "execution_count": 9,
     "metadata": {},
     "output_type": "execute_result"
    }
   ],
   "source": [
    "get_halt_answer()"
   ]
  },
  {
   "cell_type": "code",
   "execution_count": 11,
   "metadata": {},
   "outputs": [
    {
     "data": {
      "text/plain": [
       "4"
      ]
     },
     "execution_count": 11,
     "metadata": {},
     "output_type": "execute_result"
    }
   ],
   "source": [
    "intcode[220]"
   ]
  },
  {
   "cell_type": "code",
   "execution_count": null,
   "metadata": {},
   "outputs": [],
   "source": []
  }
 ],
 "metadata": {
  "kernelspec": {
   "display_name": "Python 3",
   "language": "python",
   "name": "python3"
  },
  "language_info": {
   "codemirror_mode": {
    "name": "ipython",
    "version": 3
   },
   "file_extension": ".py",
   "mimetype": "text/x-python",
   "name": "python",
   "nbconvert_exporter": "python",
   "pygments_lexer": "ipython3",
   "version": "3.7.4"
  }
 },
 "nbformat": 4,
 "nbformat_minor": 2
}
