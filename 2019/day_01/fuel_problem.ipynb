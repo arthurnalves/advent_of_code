{
 "cells": [
  {
   "cell_type": "code",
   "execution_count": 2,
   "metadata": {},
   "outputs": [
    {
     "name": "stdout",
     "output_type": "stream",
     "text": [
      "3325342\n"
     ]
    }
   ],
   "source": [
    "def calculate_fuel(mass):\n",
    "    fuel = mass//3 - 2\n",
    "    return fuel\n",
    "\n",
    "input_file = open('input')\n",
    "total_fuel = sum([calculate_fuel(int(mass)) for mass in input_file])\n",
    "input_file.close()\n",
    "\n",
    "print(total_fuel)"
   ]
  },
  {
   "cell_type": "code",
   "execution_count": 6,
   "metadata": {},
   "outputs": [
    {
     "name": "stdout",
     "output_type": "stream",
     "text": [
      "4985158\n"
     ]
    }
   ],
   "source": [
    "def recursive_fuel(mass):\n",
    "    extra_fuel = calculate_fuel(mass)\n",
    "    if extra_fuel < 0:\n",
    "        return 0\n",
    "    return extra_fuel + recursive_fuel(extra_fuel)\n",
    "\n",
    "input_file = open('input')\n",
    "total_fuel = sum([recursive_fuel(int(mass)) for mass in input_file])\n",
    "input_file.close()\n",
    "\n",
    "print(total_fuel)"
   ]
  },
  {
   "cell_type": "code",
   "execution_count": null,
   "metadata": {},
   "outputs": [],
   "source": []
  }
 ],
 "metadata": {
  "kernelspec": {
   "display_name": "Python 3",
   "language": "python",
   "name": "python3"
  },
  "language_info": {
   "codemirror_mode": {
    "name": "ipython",
    "version": 3
   },
   "file_extension": ".py",
   "mimetype": "text/x-python",
   "name": "python",
   "nbconvert_exporter": "python",
   "pygments_lexer": "ipython3",
   "version": "3.7.4"
  }
 },
 "nbformat": 4,
 "nbformat_minor": 2
}
