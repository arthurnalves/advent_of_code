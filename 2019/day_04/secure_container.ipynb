{
 "cells": [
  {
   "cell_type": "markdown",
   "metadata": {},
   "source": [
    "However, they do remember a few key facts about the password:\n",
    "\n",
    "    It is a six-digit number.\n",
    "    The value is within the range given in your puzzle input.\n",
    "    Two adjacent digits are the same (like 22 in 122345).\n",
    "    Going from left to right, the digits never decrease; they only ever increase or stay the same (like 111123 or 135679).\n",
    "\n",
    "Other than the range rule, the following are true:\n",
    "\n",
    "    111111 meets these criteria (double 11, never decreases).\n",
    "    223450 does not meet these criteria (decreasing pair of digits 50).\n",
    "    123789 does not meet these criteria (no double).\n",
    "\n",
    "How many different passwords within the range given in your puzzle input meet these criteria?\n",
    "\n",
    "Your puzzle input is 372304-847060."
   ]
  },
  {
   "cell_type": "markdown",
   "metadata": {},
   "source": [
    "### Part 1"
   ]
  },
  {
   "cell_type": "code",
   "execution_count": 1,
   "metadata": {},
   "outputs": [],
   "source": [
    "puzzle_min = 372304\n",
    "puzzle_max = 847060"
   ]
  },
  {
   "cell_type": "code",
   "execution_count": 2,
   "metadata": {},
   "outputs": [],
   "source": [
    "class RuleSet:\n",
    "    \n",
    "    @staticmethod\n",
    "    def length_rule(number, length = 6):\n",
    "        return len(str(number)) == length\n",
    "\n",
    "    @staticmethod\n",
    "    def range_rule(number, puzzle_min = puzzle_min, puzzle_max = puzzle_max):\n",
    "        return number >= puzzle_min and number <= puzzle_max\n",
    "\n",
    "    @staticmethod\n",
    "    def adjacent_rule(number):\n",
    "        ans = False\n",
    "        number = str(number)\n",
    "        for i in range(len(number) - 1):\n",
    "            if number[i] == number[i+1]:\n",
    "                ans = True\n",
    "        return ans\n",
    "    \n",
    "    @staticmethod\n",
    "    def neverdecreasing_rule(number):\n",
    "        ans = True\n",
    "        number = str(number)\n",
    "        for i in range(len(number) - 1):\n",
    "            if number[i] > number[i+1]:\n",
    "                ans = False\n",
    "        return ans"
   ]
  },
  {
   "cell_type": "code",
   "execution_count": 3,
   "metadata": {},
   "outputs": [],
   "source": [
    "def check_all_rules(number, verbose = False):\n",
    "    ans = True\n",
    "    for rule in dir(RuleSet):\n",
    "        if callable(getattr(RuleSet, rule)) and not rule.startswith(\"__\"):\n",
    "            success = getattr(RuleSet, rule)(number)\n",
    "            if not success:\n",
    "                return success\n",
    "            if verbose:\n",
    "                print(rule, success)\n",
    "            ans = ans and success\n",
    "    return ans\n",
    "\n",
    "\n",
    "answers = []\n",
    "for number in range(puzzle_min, puzzle_max + 1):\n",
    "    if check_all_rules(number):\n",
    "        answers.append(number)"
   ]
  },
  {
   "cell_type": "code",
   "execution_count": 4,
   "metadata": {},
   "outputs": [
    {
     "name": "stdout",
     "output_type": "stream",
     "text": [
      "The amount of numbers respecting the ruleset is 475\n"
     ]
    }
   ],
   "source": [
    "print('The amount of numbers respecting the ruleset is', len(answers))"
   ]
  },
  {
   "cell_type": "markdown",
   "metadata": {},
   "source": [
    "### Part 2"
   ]
  },
  {
   "cell_type": "code",
   "execution_count": 5,
   "metadata": {},
   "outputs": [],
   "source": [
    "def get_num_repetitions(number, digit):\n",
    "    ans = []\n",
    "    count = 0\n",
    "    max_count = 0\n",
    "    number = str(number)\n",
    "    for char in number:\n",
    "        if char == str(digit):\n",
    "            count+=1\n",
    "        else:\n",
    "            if count > 0:\n",
    "                ans.append(count)\n",
    "            count = 0\n",
    "        if count > max_count:\n",
    "            max_count = count\n",
    "        #print(char, count, max_count)\n",
    "    ans.append(count)\n",
    "    return ans"
   ]
  },
  {
   "cell_type": "code",
   "execution_count": 6,
   "metadata": {},
   "outputs": [],
   "source": [
    "def part2_rule(number):\n",
    "    ans = False\n",
    "    for digit in range(10):\n",
    "        num_repetitions = get_num_repetitions(number, digit)\n",
    "        if 2 in num_repetitions:\n",
    "            return True\n",
    "    return ans"
   ]
  },
  {
   "cell_type": "code",
   "execution_count": 7,
   "metadata": {},
   "outputs": [
    {
     "name": "stdout",
     "output_type": "stream",
     "text": [
      "The amount of numbers respecting the ruleset is 297\n"
     ]
    }
   ],
   "source": [
    "part2_answers = []\n",
    "for number in answers:\n",
    "    if part2_rule(number):\n",
    "        part2_answers.append(number)\n",
    "    \n",
    "print('The amount of numbers respecting the ruleset is', len(part2_answers))"
   ]
  },
  {
   "cell_type": "code",
   "execution_count": null,
   "metadata": {},
   "outputs": [],
   "source": []
  }
 ],
 "metadata": {
  "kernelspec": {
   "display_name": "Python 3",
   "language": "python",
   "name": "python3"
  },
  "language_info": {
   "codemirror_mode": {
    "name": "ipython",
    "version": 3
   },
   "file_extension": ".py",
   "mimetype": "text/x-python",
   "name": "python",
   "nbconvert_exporter": "python",
   "pygments_lexer": "ipython3",
   "version": "3.7.4"
  }
 },
 "nbformat": 4,
 "nbformat_minor": 2
}
