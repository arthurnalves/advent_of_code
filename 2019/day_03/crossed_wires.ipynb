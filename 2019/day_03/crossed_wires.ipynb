{
 "cells": [
  {
   "cell_type": "markdown",
   "metadata": {},
   "source": [
    "### Part 1"
   ]
  },
  {
   "cell_type": "code",
   "execution_count": 1,
   "metadata": {},
   "outputs": [],
   "source": [
    "input_file = open('input')\n",
    "wire1, wire2 = input_file.read().split()\n",
    "input_file.close()\n",
    "\n",
    "wire1 = wire1.split(',')\n",
    "wire2 = wire2.split(',')"
   ]
  },
  {
   "cell_type": "code",
   "execution_count": 2,
   "metadata": {},
   "outputs": [],
   "source": [
    "import numpy as np\n",
    "\n",
    "direction = dict()\n",
    "direction['R'] = np.array((1,0))\n",
    "direction['L'] = np.array((-1,0))\n",
    "direction['U'] = np.array((0,1))\n",
    "direction['D'] = np.array((0,-1))\n",
    "\n",
    "def parse(instruction):\n",
    "    dircode = instruction[0]\n",
    "    length = int(instruction[1:])\n",
    "    return length*direction[dircode]\n",
    "\n",
    "def get_corners(wire):\n",
    "    corners = []\n",
    "    current_point = np.array((0,0))\n",
    "    corners.append(np.copy(current_point))\n",
    "    \n",
    "    for instruction in wire:\n",
    "        current_point += parse(instruction)\n",
    "        corners.append(np.copy(current_point))\n",
    "    return corners"
   ]
  },
  {
   "cell_type": "code",
   "execution_count": 3,
   "metadata": {},
   "outputs": [],
   "source": [
    "corners1 = get_corners(wire1)\n",
    "corners2 = get_corners(wire2)"
   ]
  },
  {
   "cell_type": "code",
   "execution_count": 4,
   "metadata": {},
   "outputs": [],
   "source": [
    "def manhattan_norm(vector):\n",
    "    return abs(vector[0]) + abs(vector[1])\n",
    "\n",
    "def manhattan_distance(vec1, vec2):\n",
    "    return manhattan_norm(vec1 - vec2)\n",
    "\n",
    "def between(m, a, b):\n",
    "    return m >= min(a,b) and m <= max(a,b)\n",
    "\n",
    "def segseg_intercheck(seg1, seg2, return_ans = False):\n",
    "    start1, end1 = seg1\n",
    "    start2, end2 = seg2\n",
    "    \n",
    "    const1 = int(start1[0] != end1[0])\n",
    "    const2 = int(start2[0] != end2[0])\n",
    "    \n",
    "    cond1 = between(start1[const1], start2[const1], end2[const1])\n",
    "    cond2 = between(start2[const2], start1[const2], end1[const2]) \n",
    "    \n",
    "    if return_ans:\n",
    "        ans = np.array((0,0))\n",
    "        ans[const1] = start1[const1]\n",
    "        ans[const2] = start2[const2]\n",
    "        return ans\n",
    "    \n",
    "    return cond1 and cond2\n",
    "\n",
    "def segpoint_intercheck(seg, point):\n",
    "    start, end = seg\n",
    "    \n",
    "    cond1 = between(point[0], start[0], end[0])\n",
    "    cond2 = between(point[1], start[1], end[1])\n",
    "    \n",
    "    return cond1 and cond2"
   ]
  },
  {
   "cell_type": "code",
   "execution_count": 5,
   "metadata": {},
   "outputs": [],
   "source": [
    "intersections = []\n",
    "\n",
    "for i in range(len(corners1)-1):\n",
    "    for j in range(len(corners2)-1):\n",
    "        if segseg_intercheck(corners1[i:i+2], corners2[j:j+2]):\n",
    "            ans = segseg_intercheck(corners1[i:i+2],corners2[j:j+2], return_ans = True)\n",
    "            if manhattan_norm(ans) > 0:\n",
    "                intersections.append(ans)"
   ]
  },
  {
   "cell_type": "code",
   "execution_count": 12,
   "metadata": {},
   "outputs": [
    {
     "name": "stdout",
     "output_type": "stream",
     "text": [
      "Closest Intersection is at a 1064  manhattan distance\n",
      "It happens at (-37, 1027)\n"
     ]
    }
   ],
   "source": [
    "manhattan_distances = [manhattan_norm(vector) for vector in intersections]\n",
    "\n",
    "inter_index = np.argmin(manhattan_distances)\n",
    "ans = sorted(manhattan_distances)[0]\n",
    "\n",
    "print('Closest Intersection is at a', ans, ' manhattan distance')\n",
    "print('It happens at', tuple(intersections[inter_index]))"
   ]
  },
  {
   "cell_type": "markdown",
   "metadata": {},
   "source": [
    "### Part 2"
   ]
  },
  {
   "cell_type": "code",
   "execution_count": 7,
   "metadata": {},
   "outputs": [],
   "source": [
    "def get_wire_distance(corners, intersection):\n",
    "    distance = 0\n",
    "    for i in range(len(corners) -1):\n",
    "        seg = corners[i:i+2]\n",
    "        check = segpoint_intercheck(seg, intersection)\n",
    "        if check:\n",
    "            distance += manhattan_distance(seg[0], intersection)\n",
    "            return distance\n",
    "        else:\n",
    "            distance += manhattan_distance(seg[0],seg[1])\n",
    "    print('Intersection never reached')\n",
    "    return -1"
   ]
  },
  {
   "cell_type": "code",
   "execution_count": 8,
   "metadata": {},
   "outputs": [],
   "source": [
    "wire_distances1 = [get_wire_distance(corners1, intersection) for intersection in intersections]\n",
    "wire_distances2 = [get_wire_distance(corners2, intersection) for intersection in intersections]"
   ]
  },
  {
   "cell_type": "code",
   "execution_count": 9,
   "metadata": {},
   "outputs": [],
   "source": [
    "combined_wire_distances = [wire_distances1[i] + wire_distances2[i] for i in range(len(wire_distances1))]"
   ]
  },
  {
   "cell_type": "code",
   "execution_count": 10,
   "metadata": {},
   "outputs": [
    {
     "name": "stdout",
     "output_type": "stream",
     "text": [
      "The closest wire distance intersection is 25676\n"
     ]
    }
   ],
   "source": [
    "closest_wire_distance = sorted(combined_wire_distances)[0]\n",
    "print('The closest wire distance intersection is', closest_wire_distance)"
   ]
  },
  {
   "cell_type": "code",
   "execution_count": null,
   "metadata": {},
   "outputs": [],
   "source": []
  }
 ],
 "metadata": {
  "kernelspec": {
   "display_name": "Python 3",
   "language": "python",
   "name": "python3"
  },
  "language_info": {
   "codemirror_mode": {
    "name": "ipython",
    "version": 3
   },
   "file_extension": ".py",
   "mimetype": "text/x-python",
   "name": "python",
   "nbconvert_exporter": "python",
   "pygments_lexer": "ipython3",
   "version": "3.7.4"
  }
 },
 "nbformat": 4,
 "nbformat_minor": 2
}
