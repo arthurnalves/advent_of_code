{
 "cells": [
  {
   "cell_type": "code",
   "execution_count": 112,
   "metadata": {},
   "outputs": [],
   "source": [
    "input_file = open('input').read()\n",
    "\n",
    "input_file = '''COM)B\n",
    "B)C\n",
    "C)D\n",
    "D)E\n",
    "E)F\n",
    "B)G\n",
    "G)H\n",
    "D)I\n",
    "E)J\n",
    "J)K\n",
    "K)L'''\n",
    "\n",
    "orbit_pairs = input_file.split('\\n')\n",
    "\n",
    "from anytree import Node, RenderTree\n",
    "\n",
    "def tree_from_edges(orbit_pairs):\n",
    "    planets = dict()\n",
    "    for pair in orbit_pairs:\n",
    "        if pair != '':\n",
    "            a, b = pair.split(')')\n",
    "            if a not in planets:\n",
    "                planets[a] = Node(a)\n",
    "            if b not in planets:\n",
    "                planets[b] = Node(b)\n",
    "            planets[a].children = list(planets[a].children) + [planets[b]]\n",
    "    return planets\n",
    "\n",
    "def print_all_trees(planets):\n",
    "    for key, value in planets.items():\n",
    "        if value.parent == None:\n",
    "            for pre, fill, node in RenderTree(value):\n",
    "                print(\"%s%s\" % (pre, node.name))"
   ]
  },
  {
   "cell_type": "code",
   "execution_count": 118,
   "metadata": {},
   "outputs": [
    {
     "name": "stdout",
     "output_type": "stream",
     "text": [
      "COM\n",
      "└── B\n",
      "    ├── C\n",
      "    │   └── D\n",
      "    │       ├── E\n",
      "    │       │   ├── F\n",
      "    │       │   └── J\n",
      "    │       │       └── K\n",
      "    │       │           └── L\n",
      "    │       └── I\n",
      "    └── G\n",
      "        └── H\n"
     ]
    }
   ],
   "source": [
    "planets = tree_from_edges(orbit_pairs)\n",
    "print_all_trees(planets)"
   ]
  },
  {
   "cell_type": "code",
   "execution_count": 124,
   "metadata": {},
   "outputs": [
    {
     "name": "stdout",
     "output_type": "stream",
     "text": [
      "Total Orbits: 42\n"
     ]
    }
   ],
   "source": [
    "total = sum([planet.depth for name, planet in planets.items()])\n",
    "print('Total Orbits:', total)"
   ]
  },
  {
   "cell_type": "code",
   "execution_count": null,
   "metadata": {},
   "outputs": [],
   "source": []
  }
 ],
 "metadata": {
  "kernelspec": {
   "display_name": "Python 3",
   "language": "python",
   "name": "python3"
  },
  "language_info": {
   "codemirror_mode": {
    "name": "ipython",
    "version": 3
   },
   "file_extension": ".py",
   "mimetype": "text/x-python",
   "name": "python",
   "nbconvert_exporter": "python",
   "pygments_lexer": "ipython3",
   "version": "3.7.4"
  }
 },
 "nbformat": 4,
 "nbformat_minor": 2
}
